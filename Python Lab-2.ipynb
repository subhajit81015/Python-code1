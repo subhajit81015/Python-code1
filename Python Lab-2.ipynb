{
  "nbformat": 4,
  "nbformat_minor": 0,
  "metadata": {
    "colab": {
      "provenance": []
    },
    "kernelspec": {
      "name": "python3",
      "display_name": "Python 3"
    },
    "language_info": {
      "name": "python"
    }
  },
  "cells": [
    {
      "cell_type": "code",
      "source": [
        "#1. To find the sum of square root of any three numbers.\n",
        "def sqrt_sum(a,b,c):\n",
        "    sum = a**0.5+b**0.5+c**0.5\n",
        "    return sum\n",
        "\n",
        "num1 = float(input(\"Enter First number:\"))\n",
        "num2 = float(input(\"Enter Second number:\"))\n",
        "num3 = float(input(\"Enter Third number:\"))\n",
        "\n",
        "result = sqrt_sum(num1,num2,num3)\n",
        "\n",
        "print(f\"Sum of square roots are:{result:.2f}\")\n"
      ],
      "metadata": {
        "colab": {
          "base_uri": "https://localhost:8080/"
        },
        "id": "MQ5Totsjqx4F",
        "outputId": "7935e0c5-3ebe-4ac1-b040-f083fb1b7c7f"
      },
      "execution_count": null,
      "outputs": [
        {
          "output_type": "stream",
          "name": "stdout",
          "text": [
            "Enter First number:10\n",
            "Enter Second number:20\n",
            "Enter Third number:30\n",
            "Sum of square roots are:13.11\n"
          ]
        }
      ]
    },
    {
      "cell_type": "code",
      "source": [
        "#2. To solve the quadratic equation.\n",
        "def quad(a,b,c):\n",
        "    disc = b**2-4*a*c\n",
        "\n",
        "    if disc<0:\n",
        "        return None\n",
        "    sqrt_disc = disc**0.5\n",
        "    x1 = (-b+sqrt_disc)/2*a\n",
        "    x2 = (-b-sqrt_disc)/2*a\n",
        "\n",
        "    return x1, x2\n",
        "a = float(input(\"Enter First number:\"))\n",
        "b = float(input(\"Enter Second number:\"))\n",
        "c = float(input(\"Enter Third number:\"))\n",
        "\n",
        "result = quad(a,b,c)\n",
        "if result:\n",
        "    print(f\"The roots of the equation {a}x^2 + {b}x + {c} = 0 are: {result}\")\n",
        "else:\n",
        "    print(\"The equation has no real roots.\")"
      ],
      "metadata": {
        "colab": {
          "base_uri": "https://localhost:8080/"
        },
        "id": "CltvJQxGqx1M",
        "outputId": "ec005666-b28e-4787-a0e9-d8fe3c680504"
      },
      "execution_count": null,
      "outputs": [
        {
          "output_type": "stream",
          "name": "stdout",
          "text": [
            "Enter First number:1\n",
            "Enter Second number:3\n",
            "Enter Third number:2\n",
            "The roots of the equation 1.0x^2 + 3.0x + 2.0 = 0 are: (-1.0, -2.0)\n"
          ]
        }
      ]
    },
    {
      "cell_type": "code",
      "source": [
        "#3. Find GCD of two numbers\n",
        "def gcd(a,b):\n",
        "    while b!=0:\n",
        "        a,b = b,a%b\n",
        "    return a\n",
        "a = float(input(\"Enter First number:\"))\n",
        "b = float(input(\"Enter Second number:\"))\n",
        "\n",
        "res = gcd(a,b)\n",
        "print (f\"Gcd of {a} and {b}:{res:.2f}\")"
      ],
      "metadata": {
        "colab": {
          "base_uri": "https://localhost:8080/"
        },
        "id": "lTGYTHr-qxyL",
        "outputId": "e2bf1108-5113-4616-9446-fe1153c31454"
      },
      "execution_count": null,
      "outputs": [
        {
          "output_type": "stream",
          "name": "stdout",
          "text": [
            "Enter First number:24\n",
            "Enter Second number:12\n",
            "Gcd of 24.0 and 12.0:12.00\n"
          ]
        }
      ]
    },
    {
      "cell_type": "code",
      "source": [
        "#4. Compute a)5 to the power of 8 b)square root of 400 c)exponent of 5 d)Logarithm of 625 base 5\n",
        "import math\n",
        "power = 5**8\n",
        "sqrt = 400**0.5\n",
        "exp = 5**5\n",
        "log = math.log(625,5)\n",
        "print(f\"5 to the power of 8 is: {power}\")\n",
        "print(f\"Square root of 400 is: {sqrt}\")\n",
        "print(f\"Exponent of 5 is: {exp}\")\n",
        "print(f\"Logarithm of 625 base 5 is: {log}\")\n"
      ],
      "metadata": {
        "colab": {
          "base_uri": "https://localhost:8080/"
        },
        "id": "14egInnXqxvN",
        "outputId": "f35e94cb-a72d-4b05-80a3-9341c0726af9"
      },
      "execution_count": null,
      "outputs": [
        {
          "output_type": "stream",
          "name": "stdout",
          "text": [
            "5 to the power of 8 is: 390625\n",
            "Square root of 400 is: 20.0\n",
            "Exponent of 5 is: 3125\n",
            "Logarithm of 625 base 5 is: 4.0\n"
          ]
        }
      ]
    },
    {
      "cell_type": "code",
      "source": [
        "#5. Compute a)sin of 60 degree b)cos of pi c)sin(0.8660254037844386) d)tan of 90 degree\n",
        "import math\n",
        "sin_60_deg = math.sin(math.radians(60))\n",
        "cos_pi = math.cos(math.pi)\n",
        "sin_val = math.sin(0.8660254037844386)\n",
        "tan_90_deg = math.tan(math.radians(90))\n",
        "print(f\"sin(60 degrees) is: {sin_60_deg}\")\n",
        "print(f\"cos(pi) is: {cos_pi}\")\n",
        "print(f\"sin(0.8660254037844386) is: {sin_val}\")\n",
        "print(f\"tan(90 degrees) is: {tan_90_deg}\")"
      ],
      "metadata": {
        "colab": {
          "base_uri": "https://localhost:8080/"
        },
        "id": "kyLT5RuMqxsG",
        "outputId": "38a5094b-7ce6-412c-ccd1-c06ed79aa506"
      },
      "execution_count": null,
      "outputs": [
        {
          "output_type": "stream",
          "name": "stdout",
          "text": [
            "sin(60 degrees) is: 0.8660254037844386\n",
            "cos(pi) is: -1.0\n",
            "sin(0.8660254037844386) is: 0.7617599814162892\n",
            "tan(90 degrees) is: 1.633123935319537e+16\n"
          ]
        }
      ]
    },
    {
      "cell_type": "code",
      "source": [
        "#6. Define a sum function with two parameters and call the function\n",
        "def sum (a,b):\n",
        "    return a+b\n",
        "a = int(input(\"Enter First number:\"))\n",
        "b = int(input(\"Enter Second number:\"))\n",
        "\n",
        "res = sum(a,b)\n",
        "print (f\"Sum of {a},{b} are :{res}\")\n"
      ],
      "metadata": {
        "colab": {
          "base_uri": "https://localhost:8080/"
        },
        "id": "IB8N-QCwqxpD",
        "outputId": "d367e6eb-a3c7-4d89-b31b-48b719434241"
      },
      "execution_count": null,
      "outputs": [
        {
          "output_type": "stream",
          "name": "stdout",
          "text": [
            "Enter First number:10\n",
            "Enter Second number:20\n",
            "Sum of 10,20 are :30\n"
          ]
        }
      ]
    },
    {
      "cell_type": "code",
      "source": [
        "#7. WAP to reverse a given string.\n",
        "str_i = (input(\"Enter a string:\"))\n",
        "rev_str = str_i[::-1]\n",
        "\n",
        "print(f\"Reversed String:{rev_str}\")\n"
      ],
      "metadata": {
        "colab": {
          "base_uri": "https://localhost:8080/"
        },
        "id": "T6_vFBW-qxlX",
        "outputId": "15382264-95d5-4866-ae45-bca84dbc703c"
      },
      "execution_count": null,
      "outputs": [
        {
          "output_type": "stream",
          "name": "stdout",
          "text": [
            "Enter a string:uemk\n",
            "Reversed String:kmeu\n"
          ]
        }
      ]
    },
    {
      "cell_type": "code",
      "source": [
        "#8. Write a function to calculate the power of a number using recursion\n",
        "\n",
        "def power (base, exp):\n",
        "    if exp==0:\n",
        "        return 1\n",
        "    else:\n",
        "        return base*power(base, exp-1)\n",
        "base = int(input(\"Enter Base:\"))\n",
        "exp = int(input(\"Enter Exponent:\"))\n",
        "\n",
        "res = power(base,exp)\n",
        "print(f\"{base} raised to the power of {exp} is:{res}\")"
      ],
      "metadata": {
        "colab": {
          "base_uri": "https://localhost:8080/"
        },
        "id": "1yUfst9Kqxhj",
        "outputId": "b814dd37-c73a-475c-e445-49ded5fa76b3"
      },
      "execution_count": null,
      "outputs": [
        {
          "output_type": "stream",
          "name": "stdout",
          "text": [
            "Enter Base:2\n",
            "Enter Exponent:2\n",
            "2 raised to the power of 2 is:4\n"
          ]
        }
      ]
    },
    {
      "cell_type": "code",
      "execution_count": null,
      "metadata": {
        "id": "VUcZ4nKmQpnZ",
        "colab": {
          "base_uri": "https://localhost:8080/"
        },
        "outputId": "31ff4dc5-94fd-4961-c9c0-dfb3e678eea2"
      },
      "outputs": [
        {
          "output_type": "stream",
          "name": "stdout",
          "text": [
            "Enter a decimal number: 25\n",
            "The binary representation of 25 is: 11001\n"
          ]
        }
      ],
      "source": [
        "#9. Convert Decimal number to Binary\n",
        "def dec_bi(deci):\n",
        "    if deci == 0:\n",
        "        return \"0\"\n",
        "\n",
        "    binary_num = \"\"\n",
        "    while deci > 0:\n",
        "        rem = deci % 2\n",
        "        binary_num = str(rem) + binary_num\n",
        "        deci //= 2\n",
        "\n",
        "    return binary_num\n",
        "\n",
        "deci = int(input(\"Enter a decimal number: \"))\n",
        "binary_num = dec_bi(deci)\n",
        "print(f\"The binary representation of {deci} is: {binary_num}\")\n"
      ]
    },
    {
      "cell_type": "code",
      "source": [
        "#10. Write a program in Python to check if a number is Krishnamurthy number.\n",
        "def fact(n):\n",
        "    if n==0 or n==1:\n",
        "        return 1\n",
        "    else :\n",
        "        return n*fact(n-1)\n",
        "\n",
        "def is_krishna(num):\n",
        "    org_num = num\n",
        "    sum = 0\n",
        "    while num>0:\n",
        "        digit = num%10\n",
        "        sum =sum+fact(digit)\n",
        "        num //=10\n",
        "    return sum == org_num\n",
        "\n",
        "num =  int(input(\"Enter a number: \"))\n",
        "if is_krishna(num):\n",
        "     print(f\"{num} is a Krishnamurthy number.\")\n",
        "else:\n",
        "    print(f\"{num} is not a Krishnamurthy number.\")"
      ],
      "metadata": {
        "colab": {
          "base_uri": "https://localhost:8080/"
        },
        "id": "Cg7pCuekqh7D",
        "outputId": "fbe9f91f-def0-492c-be59-d0c6c211199f"
      },
      "execution_count": null,
      "outputs": [
        {
          "output_type": "stream",
          "name": "stdout",
          "text": [
            "Enter a number: 123\n",
            "123 is not a Krishnamurthy number.\n"
          ]
        }
      ]
    },
    {
      "cell_type": "code",
      "source": [
        "#11. Write a program in Python to find the sum of digits of a number.\n",
        "def sum_digit(num):\n",
        "    org_num = num\n",
        "    sum = 0\n",
        "    num = abs(num)\n",
        "    while num > 0:\n",
        "        digit = num % 10\n",
        "        sum += digit\n",
        "        num //= 10\n",
        "\n",
        "    return sum\n",
        "\n",
        "num = int(input(\"Enter a number: \"))\n",
        "res = sum_digit(num)\n",
        "\n",
        "print(f\"The sum of digits of {num} is: {res}\")\n",
        "\n"
      ],
      "metadata": {
        "colab": {
          "base_uri": "https://localhost:8080/"
        },
        "id": "kInpJx3Qqjir",
        "outputId": "acce2aeb-74a1-4415-ae15-98214ce2a030"
      },
      "execution_count": null,
      "outputs": [
        {
          "output_type": "stream",
          "name": "stdout",
          "text": [
            "Enter a number: 25\n",
            "The sum of digits of 25 is: 7\n"
          ]
        }
      ]
    },
    {
      "cell_type": "code",
      "source": [
        "#12. Write a program in Python that prompts the user to input a number and prints its multiplication table.\n",
        "def table(num):\n",
        "    num = abs(num)\n",
        "    multiplication_table = []\n",
        "    for i in range(1, 11):\n",
        "        table_num = num * i\n",
        "        multiplication_table.append(f\"{table_num}\")\n",
        "    return multiplication_table\n",
        "\n",
        "num = int(input(\"Enter a number: \"))\n",
        "res = table(num)\n",
        "\n",
        "for line in res:\n",
        "    print(line , end=\" \")\n",
        "\n",
        "\n"
      ],
      "metadata": {
        "colab": {
          "base_uri": "https://localhost:8080/"
        },
        "id": "WaOjDUnOqlKa",
        "outputId": "5349681e-451f-4c25-b0c4-b6ca1d40390a"
      },
      "execution_count": null,
      "outputs": [
        {
          "output_type": "stream",
          "name": "stdout",
          "text": [
            "Enter a number: 2\n",
            "2 4 6 8 10 12 14 16 18 20 "
          ]
        }
      ]
    },
    {
      "cell_type": "code",
      "source": [
        "#13. Write a Python program to print the first 6 terms of a geometric sequence starting with 2 and having a common ratio of 3.\n",
        "def geometric_sequence(start, common_ratio, terms):\n",
        "    sequence = []\n",
        "    current_term = start\n",
        "    for _ in range(terms):\n",
        "        sequence.append(current_term)\n",
        "        current_term *= common_ratio\n",
        "    return sequence\n",
        "\n",
        "start = int(input(\"Enter a number: \"))\n",
        "common_ratio = int(input(\"Enter a number: \"))\n",
        "terms = int(input(\"Enter a number: \"))\n",
        "\n",
        "sequence = geometric_sequence(start, common_ratio, terms)\n",
        "\n",
        "print(f\"The first {terms} terms of the geometric sequence starting with {start} and common ratio {common_ratio}:\")\n",
        "for term in sequence:\n",
        "    print(term, end=\" \")\n"
      ],
      "metadata": {
        "colab": {
          "base_uri": "https://localhost:8080/"
        },
        "id": "TAGkflMBqrrq",
        "outputId": "c0c3f927-802a-4135-affc-ba0710cf8564"
      },
      "execution_count": null,
      "outputs": [
        {
          "output_type": "stream",
          "name": "stdout",
          "text": [
            "Enter a number: 2\n",
            "Enter a number: 3\n",
            "Enter a number: 4\n",
            "The first 4 terms of the geometric sequence starting with 2 and common ratio 3:\n",
            "2 6 18 54 "
          ]
        }
      ]
    },
    {
      "cell_type": "code",
      "source": [
        "#14. Print the series upto N terms: 1,2,6,24,120,720 …\n",
        "import math\n",
        "def fact(n):\n",
        "    series = []\n",
        "    for n in range(1,n+1):\n",
        "        term = math.factorial(n)\n",
        "        series.append(term)\n",
        "    return series\n",
        "\n",
        "n = int(input(\"Enter a number: \"))\n",
        "series = fact(n)\n",
        "print(f\"The series up to {n} terms:\")\n",
        "for term in series:\n",
        "    print(term, end=\" \")"
      ],
      "metadata": {
        "colab": {
          "base_uri": "https://localhost:8080/"
        },
        "id": "74P8dZKdqs1D",
        "outputId": "ca2f3bf0-6197-43b1-ca56-e6ea30ea7451"
      },
      "execution_count": null,
      "outputs": [
        {
          "output_type": "stream",
          "name": "stdout",
          "text": [
            "Enter a number: 6\n",
            "The series up to 6 terms:\n",
            "1 2 6 24 120 720 "
          ]
        }
      ]
    },
    {
      "cell_type": "code",
      "source": [
        "#15. Write a Python program that prompts the user to enter a base number and an exponent,and then calculates the power of the base to the exponent. The program should not use the exponentiation operator (**) or the math.pow() function.\n",
        "def power(base, exponent):\n",
        "    result = 1\n",
        "    for _ in range(exponent):\n",
        "        result *= base\n",
        "    return result\n",
        "\n",
        "base = int(input(\"Enter the base number: \"))\n",
        "exponent = int(input(\"Enter the exponent: \"))\n",
        "\n",
        "result = power(base, exponent)\n",
        "\n",
        "print(f\"{base} raised to the power of {exponent} is: {result}\")\n"
      ],
      "metadata": {
        "colab": {
          "base_uri": "https://localhost:8080/"
        },
        "id": "ONjkXanfqvq6",
        "outputId": "1f8ee5fa-9154-4c7d-ab64-bc7680dfd84e"
      },
      "execution_count": null,
      "outputs": [
        {
          "output_type": "stream",
          "name": "stdout",
          "text": [
            "Enter the base number: 2\n",
            "Enter the exponent: 6\n",
            "2 raised to the power of 6 is: 64\n"
          ]
        }
      ]
    },
    {
      "cell_type": "code",
      "source": [
        "#16 Write a program to check whether a number is divisible by 5 or not.\n",
        "def div_5(num):\n",
        "  abs(num)\n",
        "  if num%5 == 0:\n",
        "    print(f\"{num} is divisible by 5! \")\n",
        "  else:\n",
        "    print(f\"{num} is not divisible!\")\n",
        "\n",
        "n = int(input(\"Enter a number: \"))\n",
        "div_5(n)\n",
        "\n"
      ],
      "metadata": {
        "colab": {
          "base_uri": "https://localhost:8080/"
        },
        "id": "2xIjyx20xh1Z",
        "outputId": "4be6bcf5-a2b3-476d-9b22-015e96ec24bb"
      },
      "execution_count": null,
      "outputs": [
        {
          "output_type": "stream",
          "name": "stdout",
          "text": [
            "Enter a number: 25\n",
            "25 is divisible by 5! \n"
          ]
        }
      ]
    },
    {
      "cell_type": "code",
      "source": [
        "#17.Write a  program to check whether a number is Buzz or not.\n",
        "def buzz(num):\n",
        "  abs(num)\n",
        "  if num%7 == 0 or num%10==0:\n",
        "    print(f\"{num} is buzz number! \")\n",
        "  else:\n",
        "    print(f\"{num} is not divisible!\")\n",
        "\n",
        "n = int(input(\"Enter a number: \"))\n",
        "buzz(n)\n"
      ],
      "metadata": {
        "colab": {
          "base_uri": "https://localhost:8080/"
        },
        "id": "FBlJ7ptQ1n56",
        "outputId": "2af4137a-40b2-43b9-8d55-a5dd7653d2cc"
      },
      "execution_count": null,
      "outputs": [
        {
          "output_type": "stream",
          "name": "stdout",
          "text": [
            "Enter a number: 49\n",
            "49 is buzz number! \n"
          ]
        }
      ]
    },
    {
      "cell_type": "code",
      "source": [
        "#18.Write a program to calculate factorial of 12.\n",
        "def fact(num):\n",
        "  for i in range(1,num):\n",
        "    if num%i == 0:\n",
        "      print(i , end=\" \")\n",
        "\n",
        "n = int(input(\"Enter a number: \"))\n",
        "fact(n)"
      ],
      "metadata": {
        "colab": {
          "base_uri": "https://localhost:8080/"
        },
        "id": "PHW_OFcN3Ths",
        "outputId": "f93a50f9-2588-444c-f0ea-ca7f58652cc0"
      },
      "execution_count": null,
      "outputs": [
        {
          "output_type": "stream",
          "name": "stdout",
          "text": [
            "Enter a number: 25\n",
            "1 5 "
          ]
        }
      ]
    },
    {
      "cell_type": "code",
      "source": [
        "# #19.Admission to a professional course is subject to the following conditions:\n",
        "#   (a)  marks in Mathematics >= 60  (b)  marks in Physics          >=50\n",
        "#   (c)  marks in Chemistry      >=40  (d) Total in all 3 subjects    >=200\n",
        "#             (Or)\n",
        "#             Total in Maths & Physics>=150\n",
        "# Given the marks in the 3 subjects of n (user input) students, write a program to process\n",
        "# the applications to list the eligible candidates.\n",
        "\n",
        "math = float(input(\"Enter marks in Mathematics: \"))\n",
        "phy = float(input(\"Enter marks in Physics: \"))\n",
        "chem = float(input(\"Enter marks in Chemistry: \"))\n",
        "\n",
        "total1 = math+phy+chem\n",
        "total2 = math+phy\n",
        "\n",
        "if(total1>=200) or  (total2>=150):\n",
        "  print(\"Eligible for admission!\")\n",
        "else:\n",
        "  print(\"Not eligible!\")\n"
      ],
      "metadata": {
        "id": "YUL7OzR-49jK",
        "colab": {
          "base_uri": "https://localhost:8080/"
        },
        "outputId": "7d638023-f61c-488b-ef2a-0350da2b3eab"
      },
      "execution_count": null,
      "outputs": [
        {
          "output_type": "stream",
          "name": "stdout",
          "text": [
            "Enter marks in Mathematics: 82\n",
            "Enter marks in Physics: 98\n",
            "Enter marks in Chemistry: 64\n",
            "Eligible for admission!\n"
          ]
        }
      ]
    },
    {
      "cell_type": "code",
      "source": [
        "#20. Write a program to calculate the sum of natural numbers up to a certain range.\n",
        "def sum_nat(n):\n",
        "  sum = 0\n",
        "  for i in range(1,n+1):\n",
        "    sum += i\n",
        "  return sum\n",
        "limit = int(input(\"Enter a number: \"))\n",
        "res = sum_nat(limit)\n",
        "print(f\"The sum is :{res}\")"
      ],
      "metadata": {
        "colab": {
          "base_uri": "https://localhost:8080/"
        },
        "id": "sti-HqDp77oY",
        "outputId": "0bcec3e2-aacb-42ad-da07-f561421fe0f2"
      },
      "execution_count": null,
      "outputs": [
        {
          "output_type": "stream",
          "name": "stdout",
          "text": [
            "Enter a number: 5\n",
            "The sum is :15\n"
          ]
        }
      ]
    },
    {
      "cell_type": "code",
      "source": [
        "#21. Write a program to print all multiple of 10 between a given interval.\n",
        "def multi_10(start, end):\n",
        "\n",
        "    if start > end:\n",
        "        start, end = end, start\n",
        "\n",
        "\n",
        "    if start % 10 == 0:\n",
        "        first = start\n",
        "    else:\n",
        "        first = start + (10 - start % 10)\n",
        "\n",
        "\n",
        "    print(f\"Multiples of 10 between {start} and {end}:\")\n",
        "    for num in range(first, end + 1, 10):\n",
        "        print(num, end=\" \")\n",
        "\n",
        "\n",
        "start = int(input(\"Enter the starting number of the interval: \"))\n",
        "end = int(input(\"Enter the ending number of the interval: \"))\n",
        "\n",
        "\n",
        "multi_10(start, end)\n"
      ],
      "metadata": {
        "colab": {
          "base_uri": "https://localhost:8080/"
        },
        "id": "aSVuSgyK9Rq4",
        "outputId": "9039fecf-7891-40e8-b3cf-cac658139788"
      },
      "execution_count": null,
      "outputs": [
        {
          "output_type": "stream",
          "name": "stdout",
          "text": [
            "Enter the starting number of the interval: 25\n",
            "Enter the ending number of the interval: 55\n",
            "Multiples of 10 between 25 and 55:\n",
            "30 40 50 "
          ]
        }
      ]
    },
    {
      "cell_type": "code",
      "source": [
        "#22.Write a program to find LCM of two Numbers.\n",
        "def gcd(x,y):\n",
        "  while y!=0:\n",
        "    (x,y) = (y,x%y)\n",
        "  return x\n",
        "\n",
        "def lcm (a,b):\n",
        "    return abs(a*b)//gcd(a,b)\n",
        "\n",
        "num1 = int(input(\"Enter first number: \"))\n",
        "num2 = int(input(\"Enter second number: \"))\n",
        "\n",
        "res = lcm(num1, num2)\n",
        "print(f\"The LCM of {num1} and {num2} is: {res}\")"
      ],
      "metadata": {
        "colab": {
          "base_uri": "https://localhost:8080/"
        },
        "id": "sEcuWrj2_XBA",
        "outputId": "163fe609-62b0-4f45-eece-a103a03a003e"
      },
      "execution_count": null,
      "outputs": [
        {
          "output_type": "stream",
          "name": "stdout",
          "text": [
            "Enter first number: 12\n",
            "Enter second number: 18\n",
            "The LCM of 12 and 18 is: 36\n"
          ]
        }
      ]
    },
    {
      "cell_type": "code",
      "source": [
        "#23. Write a  program to count the number of digits of an integer.\n",
        "def count_digit(n):\n",
        "  num_str = str(abs(n))\n",
        "  return len(num_str)\n",
        "\n",
        "num = int(input(\"Enter a number: \"))\n",
        "res = count_digit(num)\n",
        "print(\"The number of digits are: \",res)"
      ],
      "metadata": {
        "colab": {
          "base_uri": "https://localhost:8080/"
        },
        "id": "HGx36AwhBcPH",
        "outputId": "3d462ae0-38bb-4a3d-fd23-2f7b0faada08"
      },
      "execution_count": null,
      "outputs": [
        {
          "output_type": "stream",
          "name": "stdout",
          "text": [
            "Enter a number: 2336\n",
            "The number of digits are:  4\n"
          ]
        }
      ]
    },
    {
      "cell_type": "code",
      "source": [
        "#24. Write a program to check whether a number is prime or not\n",
        "def is_prime(num):\n",
        "\n",
        "    if num <= 1:\n",
        "        return False\n",
        "\n",
        "\n",
        "    for i in range(2, int(num**0.5) + 1):\n",
        "        if num % i == 0:\n",
        "            return False\n",
        "\n",
        "    return True\n",
        "\n",
        "\n",
        "num = int(input(\"Enter a number: \"))\n",
        "\n",
        "if is_prime(num):\n",
        "    print(f\"{num} is a prime number.\")\n",
        "else:\n",
        "    print(f\"{num} is not a prime number.\")\n"
      ],
      "metadata": {
        "colab": {
          "base_uri": "https://localhost:8080/"
        },
        "id": "RPaT5N7bCxNX",
        "outputId": "812b4eec-ae31-40f8-84b5-c4032c0e8346"
      },
      "execution_count": null,
      "outputs": [
        {
          "output_type": "stream",
          "name": "stdout",
          "text": [
            "Enter a number: 25\n",
            "25 is not a prime number.\n"
          ]
        }
      ]
    },
    {
      "cell_type": "code",
      "source": [
        "#25.Write a program to convert a Binary Number to Decimal\n",
        "def binary_to_decimal(binary):\n",
        "    decimal = 0\n",
        "\n",
        "    for digit in binary:\n",
        "\n",
        "        decimal = decimal * 2 + int(digit)\n",
        "    return decimal\n",
        "\n",
        "\n",
        "binary_number = input(\"Enter a binary number: \")\n",
        "\n",
        "\n",
        "if all(bit in '01' for bit in binary_number):\n",
        "    decimal_number = binary_to_decimal(binary_number)\n",
        "    print(f\"The decimal representation of {binary_number} is: {decimal_number}\")\n",
        "else:\n",
        "    print(\"Invalid binary number! Please enter a binary number containing only '0' and '1'.\")\n"
      ],
      "metadata": {
        "colab": {
          "base_uri": "https://localhost:8080/"
        },
        "id": "35pfaVlXE3Yn",
        "outputId": "ea84d0de-29f5-46a4-d758-cb4aca311021"
      },
      "execution_count": null,
      "outputs": [
        {
          "output_type": "stream",
          "name": "stdout",
          "text": [
            "Enter a binary number: 0101\n",
            "The decimal representation of 0101 is: 5\n"
          ]
        }
      ]
    }
  ]
}